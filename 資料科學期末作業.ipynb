{
  "nbformat": 4,
  "nbformat_minor": 0,
  "metadata": {
    "colab": {
      "name": "Untitled1.ipynb",
      "version": "0.3.2",
      "provenance": []
    },
    "kernelspec": {
      "name": "python3",
      "display_name": "Python 3"
    }
  },
  "cells": [
    {
      "metadata": {
        "id": "5X69Lt7NHbcP",
        "colab_type": "text"
      },
      "cell_type": "markdown",
      "source": [
        "經濟三甲 A105260035 張芳瑜、經濟三甲 A105260039 林峻寬、經濟三甲 A105260087 林芷君\n",
        "\n",
        "\n",
        "一、研究問題\n",
        "\n",
        "隨著時代改變，工作機會越來越難找，想藉由這個機會研究各個年齡層對工作機會的影響，年齡不同會不會影響工作的錄取率。\n",
        "\n",
        "\n",
        "二、研究方法\n",
        "\n",
        "利用行政院1990年的人力運用調查與python來進行資料的分析。"
      ]
    },
    {
      "metadata": {
        "id": "u1T-I9IRGyHY",
        "colab_type": "code",
        "colab": {
          "base_uri": "https://localhost:8080/",
          "height": 204
        },
        "outputId": "cb7f3c4f-669c-460e-f963-4e7e2d202a88"
      },
      "cell_type": "code",
      "source": [
        "import pandas as pd\n",
        "LP9011 = pd.read_excel(\"LP9011.xls\")\n",
        "LP9011.head()"
      ],
      "execution_count": 45,
      "outputs": [
        {
          "output_type": "execute_result",
          "data": {
            "text/html": [
              "<div>\n",
              "<style scoped>\n",
              "    .dataframe tbody tr th:only-of-type {\n",
              "        vertical-align: middle;\n",
              "    }\n",
              "\n",
              "    .dataframe tbody tr th {\n",
              "        vertical-align: top;\n",
              "    }\n",
              "\n",
              "    .dataframe thead th {\n",
              "        text-align: right;\n",
              "    }\n",
              "</style>\n",
              "<table border=\"1\" class=\"dataframe\">\n",
              "  <thead>\n",
              "    <tr style=\"text-align: right;\">\n",
              "      <th></th>\n",
              "      <th>性別</th>\n",
              "      <th>年齡</th>\n",
              "      <th>婚姻狀況</th>\n",
              "      <th>教育程度</th>\n",
              "      <th>工作身分</th>\n",
              "      <th>無工作</th>\n",
              "    </tr>\n",
              "  </thead>\n",
              "  <tbody>\n",
              "    <tr>\n",
              "      <th>0</th>\n",
              "      <td>1</td>\n",
              "      <td>41</td>\n",
              "      <td>3</td>\n",
              "      <td>6</td>\n",
              "      <td>1</td>\n",
              "      <td>0</td>\n",
              "    </tr>\n",
              "    <tr>\n",
              "      <th>1</th>\n",
              "      <td>2</td>\n",
              "      <td>19</td>\n",
              "      <td>1</td>\n",
              "      <td>5</td>\n",
              "      <td>0</td>\n",
              "      <td>1</td>\n",
              "    </tr>\n",
              "    <tr>\n",
              "      <th>2</th>\n",
              "      <td>2</td>\n",
              "      <td>19</td>\n",
              "      <td>1</td>\n",
              "      <td>7</td>\n",
              "      <td>0</td>\n",
              "      <td>1</td>\n",
              "    </tr>\n",
              "    <tr>\n",
              "      <th>3</th>\n",
              "      <td>2</td>\n",
              "      <td>76</td>\n",
              "      <td>4</td>\n",
              "      <td>1</td>\n",
              "      <td>0</td>\n",
              "      <td>1</td>\n",
              "    </tr>\n",
              "    <tr>\n",
              "      <th>4</th>\n",
              "      <td>1</td>\n",
              "      <td>17</td>\n",
              "      <td>1</td>\n",
              "      <td>6</td>\n",
              "      <td>0</td>\n",
              "      <td>1</td>\n",
              "    </tr>\n",
              "  </tbody>\n",
              "</table>\n",
              "</div>"
            ],
            "text/plain": [
              "   性別  年齡  婚姻狀況  教育程度  工作身分  無工作\n",
              "0   1  41     3     6     1    0\n",
              "1   2  19     1     5     0    1\n",
              "2   2  19     1     7     0    1\n",
              "3   2  76     4     1     0    1\n",
              "4   1  17     1     6     0    1"
            ]
          },
          "metadata": {
            "tags": []
          },
          "execution_count": 45
        }
      ]
    },
    {
      "metadata": {
        "id": "hXba-tNKHd_e",
        "colab_type": "code",
        "colab": {
          "base_uri": "https://localhost:8080/",
          "height": 204
        },
        "outputId": "d00cfd27-136f-44c1-a38e-69473f50be9b"
      },
      "cell_type": "code",
      "source": [
        "LP9011.tail()"
      ],
      "execution_count": 19,
      "outputs": [
        {
          "output_type": "execute_result",
          "data": {
            "text/html": [
              "<div>\n",
              "<style scoped>\n",
              "    .dataframe tbody tr th:only-of-type {\n",
              "        vertical-align: middle;\n",
              "    }\n",
              "\n",
              "    .dataframe tbody tr th {\n",
              "        vertical-align: top;\n",
              "    }\n",
              "\n",
              "    .dataframe thead th {\n",
              "        text-align: right;\n",
              "    }\n",
              "</style>\n",
              "<table border=\"1\" class=\"dataframe\">\n",
              "  <thead>\n",
              "    <tr style=\"text-align: right;\">\n",
              "      <th></th>\n",
              "      <th>性別</th>\n",
              "      <th>年齡</th>\n",
              "      <th>婚姻狀況</th>\n",
              "      <th>教育程度</th>\n",
              "      <th>工作身分</th>\n",
              "      <th>無工作</th>\n",
              "    </tr>\n",
              "  </thead>\n",
              "  <tbody>\n",
              "    <tr>\n",
              "      <th>994</th>\n",
              "      <td>2</td>\n",
              "      <td>16</td>\n",
              "      <td>1</td>\n",
              "      <td>4</td>\n",
              "      <td>0</td>\n",
              "      <td>1</td>\n",
              "    </tr>\n",
              "    <tr>\n",
              "      <th>995</th>\n",
              "      <td>2</td>\n",
              "      <td>48</td>\n",
              "      <td>2</td>\n",
              "      <td>7</td>\n",
              "      <td>1</td>\n",
              "      <td>0</td>\n",
              "    </tr>\n",
              "    <tr>\n",
              "      <th>996</th>\n",
              "      <td>2</td>\n",
              "      <td>36</td>\n",
              "      <td>1</td>\n",
              "      <td>5</td>\n",
              "      <td>1</td>\n",
              "      <td>0</td>\n",
              "    </tr>\n",
              "    <tr>\n",
              "      <th>997</th>\n",
              "      <td>1</td>\n",
              "      <td>33</td>\n",
              "      <td>2</td>\n",
              "      <td>9</td>\n",
              "      <td>1</td>\n",
              "      <td>0</td>\n",
              "    </tr>\n",
              "    <tr>\n",
              "      <th>998</th>\n",
              "      <td>2</td>\n",
              "      <td>33</td>\n",
              "      <td>2</td>\n",
              "      <td>8</td>\n",
              "      <td>0</td>\n",
              "      <td>1</td>\n",
              "    </tr>\n",
              "  </tbody>\n",
              "</table>\n",
              "</div>"
            ],
            "text/plain": [
              "     性別  年齡  婚姻狀況  教育程度  工作身分  無工作\n",
              "994   2  16     1     4     0    1\n",
              "995   2  48     2     7     1    0\n",
              "996   2  36     1     5     1    0\n",
              "997   1  33     2     9     1    0\n",
              "998   2  33     2     8     0    1"
            ]
          },
          "metadata": {
            "tags": []
          },
          "execution_count": 19
        }
      ]
    },
    {
      "metadata": {
        "id": "7vGVFt6RHeVX",
        "colab_type": "code",
        "colab": {
          "base_uri": "https://localhost:8080/",
          "height": 85
        },
        "outputId": "21d81729-33eb-4c53-df98-5d180d5683d1"
      },
      "cell_type": "code",
      "source": [
        "LP9011[\"年齡\"].unique()"
      ],
      "execution_count": 69,
      "outputs": [
        {
          "output_type": "execute_result",
          "data": {
            "text/plain": [
              "array([41, 19, 76, 17, 66, 62, 34, 27, 32, 26, 53, 48, 20, 49, 25, 23, 22,\n",
              "       18, 35, 36, 29, 46, 38, 81, 67, 28, 33, 21, 40, 37, 75, 73, 69, 57,\n",
              "       30, 24, 63, 31, 15, 55, 51, 54, 56, 42, 43, 45, 16, 52, 59, 72, 74,\n",
              "       77, 50, 61, 47, 44, 39, 58, 60, 70, 65, 64, 71, 85, 68, 84, 80])"
            ]
          },
          "metadata": {
            "tags": []
          },
          "execution_count": 69
        }
      ]
    },
    {
      "metadata": {
        "id": "H-M3AvXJeR-0",
        "colab_type": "code",
        "colab": {
          "base_uri": "https://localhost:8080/",
          "height": 85
        },
        "outputId": "a46284ce-44ba-4165-a785-c14cb6a19aa4"
      },
      "cell_type": "code",
      "source": [
        "ref = LP9011.groupby(\"年齡\")\n",
        "work = ref[\"工作身分\"].sum()\n",
        "nowork = ref[\"無工作\"].sum()\n",
        "work.values\n",
        "work.index\n",
        "nowork.index\n",
        "nowork.values"
      ],
      "execution_count": 46,
      "outputs": [
        {
          "output_type": "execute_result",
          "data": {
            "text/plain": [
              "array([25, 17, 26, 24, 20, 27, 22, 10,  9, 15,  5,  5,  9,  2, 10,  4,  7,\n",
              "       13,  8,  3,  6,  7,  9,  3,  8,  8,  2,  4,  5,  2,  2,  5,  3,  3,\n",
              "        3,  4,  7,  4,  3,  5,  6,  3,  2,  5,  7,  1,  7,  6,  4,  7,  4,\n",
              "        8,  8,  3,  9,  6,  5,  7,  4,  2,  5,  5,  7,  1,  2,  1,  1])"
            ]
          },
          "metadata": {
            "tags": []
          },
          "execution_count": 46
        }
      ]
    },
    {
      "metadata": {
        "id": "aRaASdKReSQC",
        "colab_type": "code",
        "colab": {
          "base_uri": "https://localhost:8080/",
          "height": 376
        },
        "outputId": "7f8b20cd-efb4-4525-ffb5-582a48b6c1ba"
      },
      "cell_type": "code",
      "source": [
        "work_len = len(work.values)\n",
        "plt.bar(range(work_len), work.values)\n",
        "plt.xticks(range(work_len), work.index)\n",
        "plt.title(\"Each age's work situation\")\n",
        "plt.xlabel(\"age\")\n",
        "plt.ylabel(\"work\")\n",
        "plt.show()"
      ],
      "execution_count": 50,
      "outputs": [
        {
          "output_type": "display_data",
          "data": {
            "image/png": "[encoded data removed]",
            "text/plain": [
              "<matplotlib.figure.Figure at 0x7fd1997840b8>"
            ]
          },
          "metadata": {
            "tags": []
          }
        }
      ]
    },
    {
      "metadata": {
        "id": "EjKg6SnseSXE",
        "colab_type": "code",
        "colab": {
          "base_uri": "https://localhost:8080/",
          "height": 376
        },
        "outputId": "1bb51215-aa75-4270-ca5f-e6e19c33981c"
      },
      "cell_type": "code",
      "source": [
        "nowork_len = len(nowork.values)\n",
        "plt.bar(range(nowork_len), nowork.values, color=\"#C70039\")\n",
        "plt.xticks(range(nowork_len), nowork.index)\n",
        "plt.title(\"Each age's work situation\")\n",
        "plt.xlabel(\"age\")\n",
        "plt.ylabel(\"nowork\")\n",
        "plt.show()"
      ],
      "execution_count": 51,
      "outputs": [
        {
          "output_type": "display_data",
          "data": {
            "image/png": "[encoded data removed]",
            "text/plain": [
              "<matplotlib.figure.Figure at 0x7fd1995eb550>"
            ]
          },
          "metadata": {
            "tags": []
          }
        }
      ]
    },
    {
      "metadata": {
        "id": "HwdxBZjahDzr",
        "colab_type": "code",
        "colab": {
          "base_uri": "https://localhost:8080/",
          "height": 34
        },
        "outputId": "1288562e-92c3-4619-f382-08554e73cf43"
      },
      "cell_type": "code",
      "source": [
        "issued = ref[\"教育程度\"].sum()\n",
        "issued.index\n",
        "issued.values"
      ],
      "execution_count": 42,
      "outputs": [
        {
          "output_type": "execute_result",
          "data": {
            "text/plain": [
              "array([2891, 2441])"
            ]
          },
          "metadata": {
            "tags": []
          },
          "execution_count": 42
        }
      ]
    },
    {
      "metadata": {
        "id": "1Fxmw_YOhwqJ",
        "colab_type": "code",
        "colab": {
          "base_uri": "https://localhost:8080/",
          "height": 400
        },
        "outputId": "8cd2a382-e8df-4d91-de9e-e89f44837d65"
      },
      "cell_type": "code",
      "source": [
        "#coding:UTF-8\n",
        "import matplotlib.pyplot as plt\n",
        "squares=[1,4,9,16,25]\n",
        "plt.plot(squares,linewidth = 5)\n",
        "\n",
        "#設置圖形的標題，並給坐標軸加上標簽\n",
        "plt.title(\"Each age's work situation\",fontsize=20)\n",
        "plt.xlabel(\"age\",fontsize=20)\n",
        "plt.ylabel(\"work\",fontsize=20)\n",
        "\n",
        "#設置刻度表標記的大小\n",
        "plt.tick_params(axis=\"both\",labelsize=20)\n",
        "plt.plot(squares)\n",
        "plt.show()"
      ],
      "execution_count": 67,
      "outputs": [
        {
          "output_type": "display_data",
          "data": {
            "image/png": "[encoded data removed]",
            "text/plain": [
              "<matplotlib.figure.Figure at 0x7fd19c790e80>"
            ]
          },
          "metadata": {
            "tags": []
          }
        }
      ]
    },
    {
      "metadata": {
        "id": "L070DyOPiN89",
        "colab_type": "code",
        "colab": {}
      },
      "cell_type": "code",
      "source": [
        ""
      ],
      "execution_count": 0,
      "outputs": []
    }
  ]
}